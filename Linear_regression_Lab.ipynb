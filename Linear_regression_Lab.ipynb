{
  "cells": [
    {
      "cell_type": "markdown",
      "metadata": {
        "id": "Ko9XxVaeqOQF"
      },
      "source": [
        "# Лабораторная работа 2\n",
        "\n",
        "## Линейная регрессия"
      ]
    },
    {
      "cell_type": "markdown",
      "metadata": {
        "id": "ajNyg1s8qOQJ"
      },
      "source": [
        "### Метод наименьших квадратов: постановка задачи\n",
        "\n",
        "Рассмотрим систему уравнений $Xa = y$, в которой $a$ — столбец неизвестных. Её можно переписать в векторном виде\n",
        "$$x_1 a_1 + x_2 a_2 + \\ldots + x_k a_k = y,$$\n",
        "где $x_1,\\ldots,x_k$ — столбцы матрицы $X$. Таким образом, решить исходную систему означает найти линейную комбинацию векторов $x_1,\\ldots,x_k$, равную правой части. Но что делать, если такой линейной комбинации не существует? Геометрически это означает, что вектор $y$ не лежит в подпространстве $U = \\langle x_1,\\ldots, x_k\\rangle$. В этом случае мы можем найти *псевдорешение*: вектор коэффициентов $\\hat{a}$, для которого линейная комбинация $x_1 \\hat{a}_1 + x_2 \\hat{a}_2 + \\ldots + x_k \\hat{a}_k$ хоть и не равна в точности $y$, но является наилучшим приближением — то есть ближайшей к $y$ точкой $\\hat{y}$ подпространства $U$ (иными словами, ортогональной проекцией $y$ на это подпростанство). Итак, цель наших исканий можно сформулировать двумя эквивалентными способами:\n",
        "\n",
        "1. Найти вектор $\\hat{a}$, для которого длина разности $|X\\hat{a} - y|$ минимальна (отсюда название \"метод наименьших квадратов\");\n",
        "2. Найти ортогональную проекцию $\\hat{y}$ вектора $y$ на подпространство $U$ и представить её в виде $X\\hat{a}$.\n",
        "\n",
        "Далее мы будем предполагать, что векторы $x_1,\\ldots,x_k$ линейно независимы (если нет, то сначала имеет смысл выделить максимальную линейно независимую подсистему).\n",
        "На лекциях было показано, что в этом случае проекция вектора $y$ на подпространство $U = \\langle x_1,\\ldots, x_k\\rangle$ записывается в виде\n",
        "$$\\hat{y} = X\\left(X^TX\\right)^{-1}X^Ty$$\n",
        "и, соответственно, искомый вектор $\\hat{a}$ равен\n",
        "$$\\hat{a} = \\left(X^TX\\right)^{-1}X^Ty.$$"
      ]
    },
    {
      "cell_type": "markdown",
      "metadata": {
        "id": "ofclUL48qOQK"
      },
      "source": [
        "### Задача линейной регрессии\n",
        "\n",
        "Начнём с примера. Допустим, вы хотите найти зависимость среднего балла S студента ФКН от его роста H, веса W, длины волос L и N — количества часов, которые он ежедневно посвящает учёбе. Представьте, что мы измерили все эти параметры для $n$ студентов и получили наборы значений: $S_1,\\ldots, S_n$, $H_1,\\ldots, H_n$ и так далее.\n",
        "\n",
        "Тут можно подбирать много разных умных моделей, но начать имеет смысл с самой простой, линейной:\n",
        "$$S = a_1H + a_2W + a_3L + a_4N + a_5.$$\n",
        "Конечно, строгой линейной зависимости нет (иначе можно было бы радостно упразднить экзамены), но мы можем попробовать подобрать коэффициенты $a_1, a_2, a_3, a_4, a_5$, для которых отклонение правой части от наблюдаемых было бы наименьшим:\n",
        "$$\\sum_{i=1}^n\\left(S_i - ( a_1H_i + a_2W_i + a_3L_i + a_4N_i + a_5)\\right)^2 \\longrightarrow \\min$$\n",
        "И сразу видно, что мы получили задачу на метод наименьших квадратов! А именно, у нас\n",
        "$$X =\n",
        "\\begin{pmatrix}\n",
        "H_1 & W_1 & L_1 & N_1 & 1\\\\\n",
        "H_2 & W_2 & L_2 & N_2 & 1\\\\\n",
        "\\dots & \\dots & \\dots & \\dots & \\dots \\\\\n",
        "H_n & W_n & L_n & N_n & 1\n",
        "\\end{pmatrix},\\qquad y=\n",
        "\\begin{pmatrix}\n",
        "S_1\\\\ S_2\\\\ \\vdots \\\\ S_n\n",
        "\\end{pmatrix}$$\n",
        "\n",
        "Решая эту задачу с помощью уже известных формул, получаем оценки коэффициентов $\\hat{a}_i$ ($i = 1\\ldots,5$)."
      ]
    },
    {
      "cell_type": "markdown",
      "metadata": {
        "id": "XGHDJWxTqOQL"
      },
      "source": [
        "Теперь проговорим общую постановку задачи линейной регрессии. У нас есть $k$ переменных $x_1,\\ldots,x_k$ (\"регрессоров\"), через которые мы хотим выразить \"объясняемую переменную\" $y$:\n",
        "$$y = a_1x_1 + a_2x_2 + \\ldots + a_kx_k.$$\n",
        "Значения всех переменных мы измерили $n$ раз (у $n$ различных объектов,  в $n$ различных моментов времени — это зависит от задачи). Подставим эти данные в предыдущее равенство:\n",
        "$$\\begin{pmatrix}\n",
        "y_1\\\\ y_2 \\\\ \\vdots \\\\ y_n\n",
        "\\end{pmatrix} = \n",
        "a_1\\begin{pmatrix}\n",
        "x_{11} \\\\ x_{21} \\\\ \\vdots \\\\ x_{n1} \\end{pmatrix} + a_2\\begin{pmatrix}\n",
        "x_{12} \\\\ x_{22} \\\\ \\vdots \\\\ x_{n2} \\end{pmatrix} + \\ldots + a_k\\begin{pmatrix}\n",
        "x_{1k} \\\\ x_{2k} \\\\ \\vdots \\\\ x_{nk} \\end{pmatrix}$$\n",
        "(здесь $x_{ij}$ — это значение $j$-го признака на $i$-м измерении). Это удобно переписать в матричном виде:\n",
        "$$\\begin{pmatrix}\n",
        "x_{11} & x_{12} & \\ldots & x_{1k}\\\\\n",
        "x_{21} & x_{22} & \\ldots & x_{2k}\\\\\n",
        "\\dots & \\dots & \\dots & \\dots\\\\\n",
        "x_{n1} & x_{n2} & \\ldots & x_{nk}\n",
        "\\end{pmatrix} \\cdot\n",
        "\\begin{pmatrix}\n",
        "a_1 \\\\ a_2 \\\\ \\vdots \\\\ a_k\n",
        "\\end{pmatrix} = \n",
        "\\begin{pmatrix}\n",
        "y_1 \\\\ y_2 \\\\ \\vdots \\\\ y_n\n",
        "\\end{pmatrix}$$\n",
        "или коротко $Xa = y$. Поскольку на практике эта система уравнений зачастую не имеет решения (ибо зависимости в жизни редко бывают действительно линейными), методом наименьших квадратов ищется псевдорешение."
      ]
    },
    {
      "cell_type": "markdown",
      "metadata": {
        "id": "6M_D0USiqOQL"
      },
      "source": [
        "### Оценка качества. Обучение и тест \n",
        "\n",
        "После того как вы построили регрессию и получили какую-то зависимость объясняемой переменной от регрессоров, настаёт время оценить качество регрессии. Есть много разных функционалов качества; мы пока будем говорить только о самом простом и очевидном из них: о среднеквадратичной ошибке (mean square error). Она равна\n",
        "$$\\frac1{n}|X\\hat{a} - y|^2 = \\frac1{n}\\sum_{i=1}^n\\left(\\hat{a}_1x_{i1} + \\hat{a}_2x_{i2} + \\ldots + \\hat{a}_kx_{ik} - y_i\\right)^2.$$\n",
        "\n",
        "В целом хочется искать модели с наименьшей mean square error на имеющихся данных. Однако слишком фанатичная гонка за минимизацией ошибки может привести к печальным последствиям, в чём вам предстоит убедиться в ходе выполнения этой лабораторной.\n",
        "\n",
        "Чтобы не попадать в эту ловушку, данные обычно делят на обучающие (по которым строят модель и оценивают коэффициенты) и тестовые. Лучшей стоит счесть ту модель, для которой значение функционала качества будет меньше."
      ]
    },
    {
      "cell_type": "markdown",
      "metadata": {
        "id": "C_HMy6kNqOQM"
      },
      "source": [
        "### Правила оформления графиков\n",
        "При работе с данными часто неудобно делать какие-то выводы, если смотреть на таблицу и числа в частности, поэтому важно уметь визуализировать данные. \n",
        "\n",
        "У matplotlib, конечно же, есть [документация](https://matplotlib.org/users/index.html) с большим количеством [примеров](https://matplotlib.org/examples/), но для начала достаточно знать про несколько основных типов графиков:\n",
        "- plot — обычный поточечный график, которым можно изображать кривые или отдельные точки;\n",
        "- hist — гистограмма, показывающая распределение некоторой величины;\n",
        "- scatter — график, показывающий взаимосвязь двух величин;\n",
        "- bar — столбцовый график, показывающий взаимосвязь количественной величины от категориальной.\n",
        "\n",
        "Ещё одна библиотека для визуализации: [seaborn](https://jakevdp.github.io/PythonDataScienceHandbook/04.14-visualization-with-seaborn.html). Это надстройка над matplotlib, иногда удобнее и красивее делать визуализации через неё. \n",
        "\n",
        "При выполнении этой лабораторной вы столкнётесь с необходимостью рисовать большое количество графиков. Не забывайте про базовые принципы построения приличных графиков:\n",
        "- оси должны быть подписаны, причём не слишком мелко;\n",
        "- у графика должно быть название;\n",
        "- если изображено несколько графиков, то необходима поясняющая легенда;\n",
        "- для точек из разных выборок необходимо использовать разные цвета;\n",
        "- все линии на графиках должны быть чётко видны (нет похожих цветов или цветов, сливающихся с фоном);\n",
        "- если отображена величина, имеющая очевидный диапазон значений (например, проценты могут быть от 0 до 100), то желательно масштабировать ось на весь диапазон значений (исключением является случай, когда вам необходимо показать малое отличие, которое незаметно в таких масштабах).\n",
        "\n",
        "Помните, что проверяющий имеет право снизить оценку за неопрятные графики."
      ]
    },
    {
      "cell_type": "markdown",
      "metadata": {
        "id": "3Jf2gQapqOQM"
      },
      "source": [
        "### Формат сдачи\n",
        "Задания сдаются через систему Anytask. Инвайт можно найти на странице курса. Присылать необходимо ноутбук с выполненным заданием. Сам ноутбук называйте в формате homework-practice-02-linregr-Username.ipynb, где Username — ваша фамилия."
      ]
    },
    {
      "cell_type": "markdown",
      "metadata": {
        "id": "oKY8bcLTqOQN"
      },
      "source": [
        "### Задание 1. Метод наименьших квадратов (3 балла)"
      ]
    },
    {
      "cell_type": "markdown",
      "metadata": {
        "id": "hRlWe7KKqOQN"
      },
      "source": [
        "Скачайте файлы ``train.txt`` и ``test.txt``. В первом из них находится обучающая выборка, а во втором — тестовая. Каждый из файлов содержит два столбца чисел, разделённых пробелами: в первом — $n$ точек (значения аргумента $x$), во втором — значения некоторой функции $y = f(x)$ в этих точках, искажённые случайным шумом. Ваша задача — по обучающей выборке подобрать функцию $y = g(x)$, пристойно приближающую неизвестную вам зависимость."
      ]
    },
    {
      "cell_type": "markdown",
      "metadata": {
        "id": "Lv_ustjBqOQO"
      },
      "source": [
        "Загрузим обучающие и тестовые данные (не забудьте ввести правильный путь!)."
      ]
    },
    {
      "cell_type": "code",
      "execution_count": 3,
      "metadata": {
        "collapsed": true,
        "id": "zsbRjiVQqOQO"
      },
      "outputs": [],
      "source": [
        "import numpy as np\n",
        "data_train = np.loadtxt(r\"/content/train.txt\", delimiter=',')\n",
        "data_test = np.loadtxt(r\"/content/test.txt\", delimiter=',')"
      ]
    },
    {
      "cell_type": "markdown",
      "metadata": {
        "id": "8nMMXMn9qOQP"
      },
      "source": [
        "**0. [0 баллов]** Разделим значения $x$ и $y$:"
      ]
    },
    {
      "cell_type": "code",
      "execution_count": 4,
      "metadata": {
        "collapsed": true,
        "id": "j8mHS807qOQQ"
      },
      "outputs": [],
      "source": [
        "x_train = data_train[:,0]\n",
        "y_train = data_train[:,1]\n",
        "x_test = data_test[:,0]\n",
        "y_test = data_test[:,1]"
      ]
    },
    {
      "cell_type": "markdown",
      "metadata": {
        "id": "2pGVEni9qOQQ"
      },
      "source": [
        "**1. [0.1 балла]** Найдите с помощью метода наименьших квадратов линейную функцию ($y = kx + b$), наилучшим образом приближающую неизвестную зависимость. Полезные функции: ``numpy.ones(n)`` для создания массива из единиц длины $n$ и ``numpy.concatenate((А, В), axis=1)`` для слияния двух матриц по столбцам (пара ``А`` и ``В`` превращается в матрицу ``[A B]``). Напечатайте этот многочлен в виде $kx+b$."
      ]
    },
    {
      "cell_type": "code",
      "execution_count": 5,
      "metadata": {
        "collapsed": true,
        "id": "uPlCOqE7qOQQ",
        "colab": {
          "base_uri": "https://localhost:8080/"
        },
        "outputId": "eef9021c-6d54-476e-ccc2-86765132b844"
      },
      "outputs": [
        {
          "output_type": "stream",
          "name": "stdout",
          "text": [
            "2.279134498051949*x +4.433230905064934\n"
          ]
        }
      ],
      "source": [
        "a = np.ones(len(data_train[:,0]))\n",
        "b = (np.array([x_train, a])).T\n",
        "c = np.dot(np.linalg.inv(np.dot(b.T, b)), b.T)\n",
        "final = np.dot(c, y_train)\n",
        "print(str(final[0])+ \"*x +\" + str(final[1]))"
      ]
    },
    {
      "cell_type": "markdown",
      "metadata": {
        "id": "WF-ivuwpqOQR"
      },
      "source": [
        "**2. [0.15 балла]** Нарисуйте на плоскости точки $(x_i, y_i)$ из обеих выборок и полученную линейную функцию."
      ]
    },
    {
      "cell_type": "code",
      "execution_count": 6,
      "metadata": {
        "collapsed": true,
        "id": "cW6-86trqOQR",
        "colab": {
          "base_uri": "https://localhost:8080/",
          "height": 489
        },
        "outputId": "cb8eafec-f779-40fa-d590-c8f236ef09dc"
      },
      "outputs": [
        {
          "output_type": "execute_result",
          "data": {
            "text/plain": [
              "Text(0.5, 1.0, 'linear')"
            ]
          },
          "metadata": {},
          "execution_count": 6
        },
        {
          "output_type": "display_data",
          "data": {
            "text/plain": [
              "<Figure size 640x480 with 1 Axes>"
            ],
            "image/png": "[encoded data removed]"
          },
          "metadata": {}
        }
      ],
      "source": [
        "import matplotlib.pyplot as plt\n",
        "x = np.linspace(-0.2,1.0)\n",
        "plt.plot(x, final[0]*x + final[1])\n",
        "plt.scatter(x_test, y_test)\n",
        "plt.xlabel(\"x\")\n",
        "plt.ylabel(\"y\")\n",
        "plt.title(\"linear\")"
      ]
    },
    {
      "cell_type": "code",
      "source": [],
      "metadata": {
        "id": "uZZcUTAt7G9k"
      },
      "execution_count": null,
      "outputs": []
    },
    {
      "cell_type": "markdown",
      "metadata": {
        "id": "tHX9676bqOQR"
      },
      "source": [
        "**3. [0.15 балла]** Глядя на данные, подумайте, многочленом какой степени можно было бы лучше всего приблизить эту функцию с точки зрения минимизации среднеквадратичной ошибки на обучающей выборке. Найдите этот многочлен и напечатайте его в виде $a_0 + a_1 x + \\ldots a_k x^k$."
      ]
    },
    {
      "cell_type": "code",
      "execution_count": 7,
      "metadata": {
        "id": "TqJQhc-UqOQR",
        "colab": {
          "base_uri": "https://localhost:8080/"
        },
        "outputId": "b25bde06-1a32-4b26-cdc9-c09e9ceae3d2"
      },
      "outputs": [
        {
          "output_type": "stream",
          "name": "stdout",
          "text": [
            " + x^0 -174092383282.82037 \n",
            " + x^1 1375721712830.0808 \n",
            " + x^2 -4920762532679.815 \n",
            " + x^3 10514278293210.262 \n",
            " + x^4 -14900575351331.906 \n",
            " + x^5 14674682569147.715 \n",
            " + x^6 -10190924365949.207 \n",
            " + x^7 4914036845275.528 \n",
            " + x^8 -1534572059258.2488 \n",
            " + x^9 232488889344.51334 \n",
            " + x^10 27190062376.769928 \n",
            " + x^11 -21304678143.600323 \n",
            " + x^12 4001157275.8040504 \n",
            " + x^13 -103081444.137541 \n",
            " + x^14 -75528017.86786684 \n",
            " + x^15 10673682.07141088 \n",
            " + x^16 -167571.75163509272 \n",
            " + x^17 -58704.389932363774 \n",
            " + x^18 3245.471663015739 \n",
            " + x^19 -0.6897813518453059 \n",
            " + x^20 3.229616908354417 \n"
          ]
        }
      ],
      "source": [
        "import scipy as scp\n",
        "def Lingres(k, Trainx, Trainy, Z):\n",
        "  b = np.matrix(np.ones(len(Trainx))).T\n",
        "  for i in range(1, k+1):\n",
        "    b = np.concatenate((np.matrix((Trainx**i)).T, b), axis = 1)\n",
        "  c = np.dot(np.linalg.inv(np.dot(b.T, b) + Z*np.eye(k+1)), b.T)\n",
        "  final = np.dot(c, Trainy)\n",
        "  for i in range(k+1):\n",
        "    print(\" + x^\" + str(k - i) + \" \" + str(final[0, i]), end = \" \")\n",
        "  print()\n",
        "  return(final)\n",
        "a = np.array(scp.interpolate.lagrange(x_train, y_train))\n",
        "b = scp.interpolate.lagrange(x_train, y_train)\n",
        "for i in range(len(a)):\n",
        "    print(\" + x^\" + str(i) + \" \" + str(a[i]), end = \" \")\n",
        "    print()\n",
        "def f(final, x):\n",
        "  S = 0\n",
        "  for i in range(np.shape(final)[1]):\n",
        "    S += x**(np.shape(final)[1] - i-1) * final[0, i]\n",
        "  return S\n",
        "\n"
      ]
    },
    {
      "cell_type": "markdown",
      "metadata": {
        "id": "o2SM-4sGqOQR"
      },
      "source": [
        "**4. [0.1 балла]** Нарисуйте его график на одном чертеже вместе с точками $(x_i, y_i)$ из обеих выборок."
      ]
    },
    {
      "cell_type": "code",
      "execution_count": 8,
      "metadata": {
        "id": "_AX0GL31qOQR",
        "colab": {
          "base_uri": "https://localhost:8080/",
          "height": 489
        },
        "outputId": "464c584b-edc8-463a-bd8c-99f698b7a4b0"
      },
      "outputs": [
        {
          "output_type": "execute_result",
          "data": {
            "text/plain": [
              "Text(0.5, 1.0, 'PolyLagrange')"
            ]
          },
          "metadata": {},
          "execution_count": 8
        },
        {
          "output_type": "display_data",
          "data": {
            "text/plain": [
              "<Figure size 640x480 with 1 Axes>"
            ],
            "image/png": "[encoded data removed]"
          },
          "metadata": {}
        }
      ],
      "source": [
        "import matplotlib.pyplot as plt\n",
        "x = np.linspace(-0.2,1.0)\n",
        "plt.plot(x, b(x))\n",
        "plt.scatter(x_train, y_train)\n",
        "plt.xlabel(\"x\")\n",
        "plt.ylabel(\"y\")\n",
        "plt.title(\"PolyLagrange\")"
      ]
    },
    {
      "cell_type": "markdown",
      "metadata": {
        "id": "KdHazeiGqOQS"
      },
      "source": [
        "**5. [0.25 балла]** Для $k = 1,2,3,\\ldots,10$ найдите многочлен $\\hat{f}_k$ степени $k$, наилучшим образом приближающий неизвестную зависимость. Напечатайте найденные многочлены в виде $a_0 + a_1 x + \\ldots a_k x^k$."
      ]
    },
    {
      "cell_type": "code",
      "execution_count": 9,
      "metadata": {
        "collapsed": true,
        "id": "w_y0Xn4AqOQS",
        "colab": {
          "base_uri": "https://localhost:8080/"
        },
        "outputId": "61bf6db4-5746-4bfd-f85f-129baa78066a"
      },
      "outputs": [
        {
          "output_type": "stream",
          "name": "stdout",
          "text": [
            " + x^1 2.279134498051949  + x^0 4.433230905064934 \n",
            " + x^2 1.4016285121152823  + x^1 1.1578316883597166  + x^0 4.472476503404164 \n",
            " + x^3 -0.38176860428796133  + x^2 1.8597508372608742  + x^1 1.0650161052852551  + x^0 4.460736355285096 \n",
            " + x^4 7.918474697307697  + x^3 -13.051328119987117  + x^2 6.79409178435549  + x^1 1.1718023926319816  + x^0 4.34116612039979 \n",
            " + x^5 29.52497804145519  + x^4 -51.13148138564531  + x^3 21.3747962763763  + x^2 3.2747144018116146  + x^1 -0.13059803987880694  + x^0 4.431297813823435 \n",
            " + x^6 -229.97013339699964  + x^5 581.453298187213  + x^4 -481.5101328381272  + x^3 121.25709711768631  + x^2 16.0029039892461  + x^1 -4.597179324613547  + x^0 4.3837950110265975 \n",
            " + x^7 -167.3819648805717  + x^6 238.69936826049826  + x^5 122.87821659278907  + x^4 -314.23117228687187  + x^3 119.35078426465012  + x^2 7.215458594727671  + x^1 -4.008895911386735  + x^0 4.4445127094806525 \n",
            " + x^8 1729.4776287274046  + x^7 -5701.710378834847  + x^6 6760.628690095657  + x^5 -3132.856506003696  + x^4 109.89568453417932  + x^3 268.8604448881418  + x^2 -26.695632308636384  + x^1 -5.18277355789128  + x^0 4.663789117458879 \n",
            " + x^9 903.2157213939902  + x^8 -1522.0990918286038  + x^7 -1216.447016753344  + x^6 3913.267300253741  + x^5 -2441.9624667703674  + x^4 176.24541900243017  + x^3 219.0420231235087  + x^2 -24.26271555475067  + x^1 -4.552705657183099  + x^0 4.645883593432961 \n",
            " + x^10 -9818.495986044958  + x^9 40177.197089640154  + x^8 -63620.46051871524  + x^7 46686.2271558233  + x^6 -12969.778015826683  + x^5 -1660.8341172236817  + x^4 1201.9438845241061  + x^3 44.93717674105292  + x^2 -36.17528842298967  + x^1 -2.1598549270279728  + x^0 4.669172329118636 \n"
          ]
        }
      ],
      "source": [
        "for i in range(1, 11):\n",
        "  Lingres(i, x_train, y_train, 0)\n"
      ]
    },
    {
      "cell_type": "markdown",
      "metadata": {
        "id": "wwl54m8wqOQS"
      },
      "source": [
        "**6. [1 балл]** Для каждого из них найдите среднеквадратическую ошибку на обучающих данных и на тестовых данных: $\\frac1{n}\\sum_{i=1}^n\\left( \\hat{f}_k(x_i) - y_i \\right)^2$ (в первом случае сумма ведётся по парам $(x_i, y_i)$ из обучающих данных, а во втором — по парам из тестовых данных)."
      ]
    },
    {
      "cell_type": "code",
      "execution_count": 10,
      "metadata": {
        "id": "1J3cBlupqOQS",
        "colab": {
          "base_uri": "https://localhost:8080/"
        },
        "outputId": "b80dda1d-6128-4419-96c5-9b9ea50e2cdd"
      },
      "outputs": [
        {
          "output_type": "stream",
          "name": "stdout",
          "text": [
            " + x^1 2.279134498051949  + x^0 4.433230905064934 \n",
            "отклонение многочлена 1-ой степени на тренировочной выборке равно 0.2968966332625196\n",
            "отклонение многочлена 1-ой степени на тестовой выборке равно 0.44925813532215064\n",
            " + x^2 1.4016285121152823  + x^1 1.1578316883597166  + x^0 4.472476503404164 \n",
            "отклонение многочлена 2-ой степени на тренировочной выборке равно 0.26969891587669137\n",
            "отклонение многочлена 2-ой степени на тестовой выборке равно 0.3693190943010592\n",
            " + x^3 -0.38176860428796133  + x^2 1.8597508372608742  + x^1 1.0650161052852551  + x^0 4.460736355285096 \n",
            "отклонение многочлена 3-ой степени на тренировочной выборке равно 0.26949718714796106\n",
            "отклонение многочлена 3-ой степени на тестовой выборке равно 0.36817965653984724\n",
            " + x^4 7.918474697307697  + x^3 -13.051328119987117  + x^2 6.79409178435549  + x^1 1.1718023926319816  + x^0 4.34116612039979 \n",
            "отклонение многочлена 4-ой степени на тренировочной выборке равно 0.26106653305792754\n",
            "отклонение многочлена 4-ой степени на тестовой выборке равно 0.45415875859667443\n",
            " + x^5 29.52497804145519  + x^4 -51.13148138564531  + x^3 21.3747962763763  + x^2 3.2747144018116146  + x^1 -0.13059803987880694  + x^0 4.431297813823435 \n",
            "отклонение многочлена 5-ой степени на тренировочной выборке равно 0.24998504648317546\n",
            "отклонение многочлена 5-ой степени на тестовой выборке равно 0.5698772519913283\n",
            " + x^6 -229.97013339699964  + x^5 581.453298187213  + x^4 -481.5101328381272  + x^3 121.25709711768631  + x^2 16.0029039892461  + x^1 -4.597179324613547  + x^0 4.3837950110265975 \n",
            "отклонение многочлена 6-ой степени на тренировочной выборке равно 0.18829348988370734\n",
            "отклонение многочлена 6-ой степени на тестовой выборке равно 2.590659289329299\n",
            " + x^7 -167.3819648805717  + x^6 238.69936826049826  + x^5 122.87821659278907  + x^4 -314.23117228687187  + x^3 119.35078426465012  + x^2 7.215458594727671  + x^1 -4.008895911386735  + x^0 4.4445127094806525 \n",
            "отклонение многочлена 7-ой степени на тренировочной выборке равно 0.18539621153294653\n",
            "отклонение многочлена 7-ой степени на тестовой выборке равно 2.524611293129234\n",
            " + x^8 1729.4776287274046  + x^7 -5701.710378834847  + x^6 6760.628690095657  + x^5 -3132.856506003696  + x^4 109.89568453417932  + x^3 268.8604448881418  + x^2 -26.695632308636384  + x^1 -5.18277355789128  + x^0 4.663789117458879 \n",
            "отклонение многочлена 8-ой степени на тренировочной выборке равно 0.15905556579089902\n",
            "отклонение многочлена 8-ой степени на тестовой выборке равно 4.364862926551473\n",
            " + x^9 903.2157213939902  + x^8 -1522.0990918286038  + x^7 -1216.447016753344  + x^6 3913.267300253741  + x^5 -2441.9624667703674  + x^4 176.24541900243017  + x^3 219.0420231235087  + x^2 -24.26271555475067  + x^1 -4.552705657183099  + x^0 4.645883593432961 \n",
            "отклонение многочлена 9-ой степени на тренировочной выборке равно 0.1584718427499449\n",
            "отклонение многочлена 9-ой степени на тестовой выборке равно 4.783874846441287\n",
            " + x^10 -9818.495986044958  + x^9 40177.197089640154  + x^8 -63620.46051871524  + x^7 46686.2271558233  + x^6 -12969.778015826683  + x^5 -1660.8341172236817  + x^4 1201.9438845241061  + x^3 44.93717674105292  + x^2 -36.17528842298967  + x^1 -2.1598549270279728  + x^0 4.669172329118636 \n",
            "отклонение многочлена 10-ой степени на тренировочной выборке равно 0.15316611086474358\n",
            "отклонение многочлена 10-ой степени на тестовой выборке равно 14.639626411225057\n"
          ]
        }
      ],
      "source": [
        "for i in range(1, 11):\n",
        "  Mean_square = 0\n",
        "  final = Lingres(i, x_train, y_train, 0)\n",
        "  for j in range(len(x_train)):\n",
        "    Mean_square += (f(final,x_train[j]) - y_train[j])**2\n",
        "  Mean_square = Mean_square/len(x_train)\n",
        "  print(\"отклонение многочлена \" + str(i) + \"-ой степени на тренировочной выборке равно \" + str(Mean_square))\n",
        "  for j in range(len(x_test)):\n",
        "    Mean_square += (f(final,x_test[j]) - y_test[j])**2\n",
        "  Mean_square = Mean_square/len(x_test)\n",
        "  print(\"отклонение многочлена \" + str(i) + \"-ой степени на тестовой выборке равно \" + str(Mean_square))\n",
        "\n",
        "\n",
        "\n",
        "  "
      ]
    },
    {
      "cell_type": "markdown",
      "metadata": {
        "id": "xpScehMYqOQS"
      },
      "source": [
        "**7. [0.75 балла]** Для $k = 1,2,3,4,5,6$ нарисуйте графики полученных многочленов на одном чертеже вместе с точками $(x_i, y_i)$ из обеих выборок (возможно, график стоит сделать побольше; это делается командой `plt.figure(figsize=(width, height))`)."
      ]
    },
    {
      "cell_type": "code",
      "execution_count": 11,
      "metadata": {
        "id": "hofYSv0oqOQS",
        "colab": {
          "base_uri": "https://localhost:8080/",
          "height": 1000
        },
        "outputId": "8a79ecdf-e4f8-402b-b3df-ba07ad74c2a6"
      },
      "outputs": [
        {
          "output_type": "stream",
          "name": "stdout",
          "text": [
            " + x^1 2.279134498051949  + x^0 4.433230905064934 \n",
            " + x^2 1.4016285121152823  + x^1 1.1578316883597166  + x^0 4.472476503404164 \n",
            " + x^3 -0.38176860428796133  + x^2 1.8597508372608742  + x^1 1.0650161052852551  + x^0 4.460736355285096 \n",
            " + x^4 7.918474697307697  + x^3 -13.051328119987117  + x^2 6.79409178435549  + x^1 1.1718023926319816  + x^0 4.34116612039979 \n",
            " + x^5 29.52497804145519  + x^4 -51.13148138564531  + x^3 21.3747962763763  + x^2 3.2747144018116146  + x^1 -0.13059803987880694  + x^0 4.431297813823435 \n",
            " + x^6 -229.97013339699964  + x^5 581.453298187213  + x^4 -481.5101328381272  + x^3 121.25709711768631  + x^2 16.0029039892461  + x^1 -4.597179324613547  + x^0 4.3837950110265975 \n"
          ]
        },
        {
          "output_type": "execute_result",
          "data": {
            "text/plain": [
              "Text(0, 0.5, 'y')"
            ]
          },
          "metadata": {},
          "execution_count": 11
        },
        {
          "output_type": "display_data",
          "data": {
            "text/plain": [
              "<Figure size 1000x1000 with 1 Axes>"
            ],
            "image/png": "[encoded data removed]"
          },
          "metadata": {}
        }
      ],
      "source": [
        "plt.figure(figsize=(10, 10))\n",
        "x = np.linspace(-0.2,1.0)\n",
        "for i in range(1, 7):\n",
        "  final = Lingres(i, x_train, y_train, 0)\n",
        "  plt.plot(x, f(final, x))\n",
        "plt.scatter(x_test, y_test)\n",
        "plt.title(\"PolyApproximate\")\n",
        "plt.legend (('pow1', 'pow2', 'pow3','pow4','pow5','pow6',))\n",
        "plt.xlabel(\"x\")\n",
        "plt.ylabel(\"y\")"
      ]
    },
    {
      "cell_type": "markdown",
      "metadata": {
        "id": "ParzqKySqOQT"
      },
      "source": [
        "**8. [0.5 балла]** Что происходит с ошибкой при росте степени многочлена? Казалось бы, чем больше степень, тем более сложным будет многочлен и тем лучше он будет приближать нашу функцию. Подтверждают ли это ваши наблюдения? Как вам кажется, чем объясняется поведение ошибки на тестовых данных при $k = 10$? Как, по вашему мнению, в машинном обучении называется наблюдаемый вами эффект?"
      ]
    },
    {
      "cell_type": "markdown",
      "metadata": {
        "id": "jkyipwBZqOQT"
      },
      "source": [
        "Сначала ошибка уменьшается, а затем возрастает. \n",
        "Такая ситуация возникает из-за явления, которое в машинном обучении называется \"переобучением\". В любой достаточно маленькой выборке неизбежно появляются совпадения, которых нет в генеральной совокупности. Выбирая многочлен большой степени для описания наших данных мы \"фиксируем эту закономерность\", вследсвие чего наша функция показывает хорошие результаты на тренировочных данных, но проигрывает многочленам меньшей степени в реальной ситуации."
      ]
    },
    {
      "cell_type": "markdown",
      "metadata": {
        "id": "dqDO2JvrqOQT"
      },
      "source": [
        "### Задание 2. Линейная регрессия (3.5 балла)"
      ]
    },
    {
      "cell_type": "markdown",
      "metadata": {
        "id": "q2SeG4JXqOQT"
      },
      "source": [
        "Скачайте файлы ``flats_moscow_mod.txt`` и ``flats_moscow_description.txt``. В первом из них содержатся данные о квартирах в Москве. Каждая строка содержит шесть характеристик некоторой квартиры, разделённые знаками табуляции; в первой строке записаны кодовые названия характеристик. Во втором файле приведены краткие описания признаков."
      ]
    },
    {
      "cell_type": "markdown",
      "metadata": {
        "id": "ujhqvIceqOQT"
      },
      "source": [
        "**0. [0 баллов]** Разделите выборку на обучающую и тестовую. Делать это лучше случайным образом (ведь вы не знаете, как создатели датасета упорядочили объекты); рекомендуем вам для этого функцию `sklearn.model_selection.train_test_split` с параметром `test_size=0.3`. Не забудьте зафиксировать параметр `random_state`."
      ]
    },
    {
      "cell_type": "code",
      "execution_count": 12,
      "metadata": {
        "id": "VyTvlY47qOQT"
      },
      "outputs": [],
      "source": [
        "import sklearn as skl\n",
        "from sklearn.model_selection import train_test_split\n",
        "flat_data = np.loadtxt(r\"/content/flats_moscow_mod.txt\", delimiter='\\t', converters=None, skiprows=1)\n",
        "Split = train_test_split(flat_data, test_size=0.3)\n",
        "train = Split[0]\n",
        "test = Split[1]"
      ]
    },
    {
      "cell_type": "markdown",
      "metadata": {
        "id": "SaNTUg0AqOQT"
      },
      "source": [
        "**1. [0.5 балла]** Вашей задачей будет построить с помощью метода наименьших квадратов (линейную) зависимость между ценой квартиры и остальными доступными параметрами. С помощью известных вам формул найдите регрессионные коэффициенты. Выпишите построенную модель."
      ]
    },
    {
      "cell_type": "code",
      "execution_count": 13,
      "metadata": {
        "collapsed": true,
        "id": "XEljbR-wqOQT",
        "colab": {
          "base_uri": "https://localhost:8080/"
        },
        "outputId": "0e9ff3a0-dd39-4c46-c025-b29d1c758821"
      },
      "outputs": [
        {
          "output_type": "stream",
          "name": "stdout",
          "text": [
            "[  1.7022772    1.10485481   1.05772401  -3.24566548  -1.48023664\n",
            " -10.33642307]\n"
          ]
        }
      ],
      "source": [
        "prices = train.T[0]\n",
        "Matrx = np.vstack([train.T[1:], np.ones(len(train.T[0]))]).T\n",
        "c = np.dot(np.linalg.inv(np.dot(Matrx.T, Matrx)), Matrx.T)\n",
        "final = np.dot(c, prices)\n",
        "print(final)"
      ]
    },
    {
      "cell_type": "markdown",
      "metadata": {
        "id": "5bJZj-FnqOQU"
      },
      "source": [
        "**2. [0.25 балла]** Какой смысл имеют их знаки? Согласуются ли они с вашими представлениями о жизни?"
      ]
    },
    {
      "cell_type": "markdown",
      "metadata": {
        "id": "vktQsPdWqOQU"
      },
      "source": [
        "Применим метод наименьших квадратов мы получаем достаточно интуитивный вывод: Чем больше площадь квартиры, тем больше она стоит, чем больше площадь кухни, тем больше она стоит. Также логично, что чем больше расстояние до центра и до метро, тем хуже расположение квартиры, тем меньше она стоит."
      ]
    },
    {
      "cell_type": "markdown",
      "metadata": {
        "id": "lmsbkMMzqOQU"
      },
      "source": [
        "**3. [0.25 балла]** Оцените качество приближения, вычислив среднеквадратическую ошибку на тестовой выборке."
      ]
    },
    {
      "cell_type": "code",
      "execution_count": 14,
      "metadata": {
        "id": "4W2zfjDBqOQU",
        "colab": {
          "base_uri": "https://localhost:8080/"
        },
        "outputId": "70638bb8-98bc-43f8-e9f6-d1bcd6ae309e"
      },
      "outputs": [
        {
          "output_type": "stream",
          "name": "stdout",
          "text": [
            "809.578459792881\n"
          ]
        }
      ],
      "source": [
        "Avgmiss = 0\n",
        "Split = train_test_split(flat_data, test_size=0.3, random_state = 1)\n",
        "train = Split[0]\n",
        "test = Split[1]\n",
        "prices = train.T[0]\n",
        "Matrx = np.vstack([train.T[1:], np.ones(len(train.T[0]))]).T\n",
        "c = np.dot(np.linalg.inv(np.dot(Matrx.T, Matrx)), Matrx.T)\n",
        "final = np.dot(c, prices)\n",
        "n = len(test)\n",
        "Mean_sq = 0\n",
        "for z in test:\n",
        "  Mean_sq += (z[1]*final[0] + z[2]*final[1] + z[3]*final[2] + z[4]*final[3] + z[5]*final[4] + final[5] - z[0])**2\n",
        "Avgmiss += Mean_sq/n\n",
        "print(Avgmiss)"
      ]
    },
    {
      "cell_type": "markdown",
      "metadata": {
        "collapsed": true,
        "id": "Hlx8rdo7qOQU"
      },
      "source": [
        "### Усложнение модели"
      ]
    },
    {
      "cell_type": "markdown",
      "metadata": {
        "id": "_XYUBuuKqOQU"
      },
      "source": [
        "Конечно, никто не гарантирует, что объясняемая переменная (цена квартиры) зависит от остальных характеристик именно линейно. Зависимость может быть, например, квадратичной или логарифмической; больше того, могут быть важны не только отдельные признаки, но и их комбинации. Это можно учитывать, добавляя в качестве дополнительных признаков разные функции от уже имеющихся характеристик: их квадраты, логарифмы, попарные произведения."
      ]
    },
    {
      "cell_type": "markdown",
      "metadata": {
        "id": "Al0tSMRzqOQU"
      },
      "source": [
        "В этом задании вам нужно постараться улучшить качество модели, добавляя дополнительные признаки, являющиеся функциями от уже имеющихся. Но будьте осторожны: чрезмерное усложнение модели будет приводить к переобучению."
      ]
    },
    {
      "cell_type": "markdown",
      "metadata": {
        "id": "xcMvA2eCqOQV"
      },
      "source": [
        "**4. [0.25 балла]** Опишите признаки, которые вы решили добавить. Объясните, чем был мотивирован выбор именно этих признаков."
      ]
    },
    {
      "cell_type": "markdown",
      "metadata": {
        "id": "sg80itXGqOQV"
      },
      "source": [
        "В соответсвии с житейской интуицией хочется добавить попарное произведение расстояния до метро и корень до расстояния до центра(условно, это параметр отвечающий за то, насколько долго добираться до центра города на общественном транспорте), также, хочется добавить $\\frac{totsp}{dist}$, так как по мере приближения к центру квартиру большой площади становится сравненно сложнее купить, произведение $kitsp * (livsp**0.5))$ - так как большая кухня достаточно сильно влияет на стоимость квартиры."
      ]
    },
    {
      "cell_type": "markdown",
      "metadata": {
        "id": "GzWK2iAAqOQV"
      },
      "source": [
        "**5. [2 балла]** Постройте с помощью метода наименьших квадратов (линейную) зависимость между ценой квартиры и новыми признаками. С помощью известных вам формул найдите регрессионные коэффициенты. Выпишите построенную модель."
      ]
    },
    {
      "cell_type": "code",
      "execution_count": 15,
      "metadata": {
        "id": "gBTFofg6qOQV",
        "colab": {
          "base_uri": "https://localhost:8080/"
        },
        "outputId": "dc6a0190-ca50-49b8-95c4-92506b6aadcc"
      },
      "outputs": [
        {
          "output_type": "stream",
          "name": "stdout",
          "text": [
            "[ 1.55283060e+00  4.37105336e-01 -1.23806690e+01 -3.47280168e+00\n",
            " -2.86401348e+00  3.45449012e+01  7.78662476e-04  1.91327015e+00\n",
            "  4.75829228e-01]\n"
          ]
        }
      ],
      "source": [
        "totsp = flat_data.T[1]\n",
        "livsp = flat_data.T[2]\n",
        "kitsp = flat_data.T[3]\n",
        "dist = flat_data.T[4]\n",
        "metrdist = flat_data.T[5]\n",
        "new_par1 = (totsp/dist)**3\n",
        "new_par2 = kitsp*(livsp**(0.5))\n",
        "new_par3 = (dist**0.5)*metrdist\n",
        "data_t = flat_data.T\n",
        "newdata = (np.vstack([data_t,np.ones(len(new_par1)), new_par1, new_par2, new_par3])).T\n",
        "Split = train_test_split(newdata, test_size=0.3, random_state=1)\n",
        "tester = Split[0]\n",
        "train = Split[1]\n",
        "prices = tester.T[0]\n",
        "Matrx = (tester.T[1:]).T\n",
        "c = np.dot(np.linalg.inv(np.dot(Matrx.T, Matrx)), Matrx.T)\n",
        "final = np.dot(c, prices)\n",
        "print(final)\n",
        "\n"
      ]
    },
    {
      "cell_type": "markdown",
      "metadata": {
        "id": "YZmgNGJ6qOQV"
      },
      "source": [
        "**6. [0.25 балла]** Оцените качество приближения, вычислив среднеквадратическую ошибку на тестовой выборке."
      ]
    },
    {
      "cell_type": "code",
      "execution_count": 16,
      "metadata": {
        "id": "0V6MvEGTqOQV",
        "colab": {
          "base_uri": "https://localhost:8080/"
        },
        "outputId": "979bc158-ff06-43ea-b0fd-79fd9675e27c"
      },
      "outputs": [
        {
          "output_type": "stream",
          "name": "stdout",
          "text": [
            "787.0298770541427\n"
          ]
        }
      ],
      "source": [
        "Mean_sq = 0\n",
        "for z in train:\n",
        "  Mean_sq += (z[1]*final[0] + z[2]*final[1] + z[3]*final[2] + z[4]*final[3] + z[5]*final[4] + z[6] * final[5] + z[7] * final[6] + z[8] * final[7] + z[9]*final[8] - z[0])**2\n",
        "print(Mean_sq/len(train))"
      ]
    },
    {
      "cell_type": "markdown",
      "metadata": {
        "id": "HLfo4lHxqOQV"
      },
      "source": [
        "### Задание 3. Регуляризация (3.5 балла)"
      ]
    },
    {
      "cell_type": "markdown",
      "metadata": {
        "id": "FYxo3T5qqOQV"
      },
      "source": [
        "Вспомним, что задача линейной регрессии формулируется как задача нахождения проекции вектора значений объясняемой переменной $y$ на линейную оболочку $\\langle x_1,\\ldots,x_k\\rangle$ векторов значений регрессоров. Если векторы $x_1,\\ldots,x_k$ линейно зависимы, то матрица $X^TX$ вырожденна и задача не будет решаться с помощью приведённой выше формулы. В жизни, по счастью, различные признаки редко бывают *в точности* линейно зависимы, однако во многих ситуациях они скоррелированы и становятся \"почти\" линейно зависимыми. Таковы, к примеру, зарплата человека, его уровень образования, цена машины и суммарная площадь недвижимости, которой он владеет. В этом случае матрица $X^TX$ будет близка к вырожденной, и это приводит к численной неустойчивости и плохому качеству решений; как следствие, будет иметь место переобучение. Один из симптомов этой проблемы — необычно большие по модулю компоненты вектора $a$.\n",
        "\n",
        "Есть много способов борьбы с этим злом. Один из них — регуляризация. Сейчас мы рассмотрим одну из её разновидностей — **L2-регуляризацию**. Идея в том, чтобы подправить матрицу $X^TX$, сделав её \"получше\". Например, это можно сделать, заменив её на $(X^TX + \\lambda E)$, где $\\lambda > 0$ — некоторый скаляр. Пожертвовав точностью на обучающей выборке, мы тем не менее получаем численно более стабильное псевдорешение $a = (X^TX + \\lambda E)^{-1}X^Ty$ и снижаем эффект переобучения. *Гиперпараметр* $\\lambda$ нужно подбирать, и каких-то универсальных способов это делать нет, но зачастую можно его подобрать таким, чтобы ошибка на тестовой выборке падала.\n",
        "\n",
        "Однако есть некоторые правила, которых стоит придерживаться при подборе коэффициента регуляризации. Обычно в такой ситуации всю выборку делят на три части: обучающую, *валидационную* и тестовую. Сначала по валидационной подбирают значение гиперпараметра, потом по обучающей строят модель, а по тестовой оценивают её итоговое качество. Кроме того, подбирать $\\lambda$ нужно по логарифметической сетке, чтобы узнать оптимальный порядок величины."
      ]
    },
    {
      "cell_type": "markdown",
      "metadata": {
        "id": "drc2I8QkqOQW"
      },
      "source": [
        "**1. [0.25 балла]** Почему не стоит подбирать коэффициент регуляризации по обучающей выборке? По тестовой выборке?"
      ]
    },
    {
      "cell_type": "markdown",
      "metadata": {
        "id": "dj18QOSMqOQW"
      },
      "source": [
        "При подборе по обучающей выборке возникает очевидная проблема: Мы подбираем коэффицент так, как будто он является такой же переменной, как и остальные факторы, тем самым мы провоцируем переобучение(пытаясь подогнать очевидно незначимую переменную). Подборка по тестовой выборке является в каком-то смысле подгонкой под результат, так что это тоже плохой подход."
      ]
    },
    {
      "cell_type": "markdown",
      "source": [],
      "metadata": {
        "id": "3jx669YuoOIM"
      }
    },
    {
      "cell_type": "markdown",
      "metadata": {
        "id": "fsVCD8uqqOQW"
      },
      "source": [
        "**2. [0 баллов]** Теперь давайте вспомним первую задачу. Если вы её сделали, то помните, что ошибка аппроксимации многочленом шестой степени довольно высокая. Попытаемся использовать регуляризацию при построении модели. Поделите обучающую выборку из первой задачи на две части, одну из которых объявите обучающей, а другую — валидационной (будьте осторожны при выборе `train_size`, в этой выборке не так много данных)."
      ]
    },
    {
      "cell_type": "code",
      "execution_count": 17,
      "metadata": {
        "id": "bQw3VuFRqOQW",
        "colab": {
          "base_uri": "https://localhost:8080/"
        },
        "outputId": "65af16e8-1b15-415e-a3f2-409dca3bbedc"
      },
      "outputs": [
        {
          "output_type": "stream",
          "name": "stdout",
          "text": [
            "[[ 0.76        5.46450349]\n",
            " [ 0.16        4.07405522]\n",
            " [ 0.94        7.0778812 ]\n",
            " [ 0.52        5.76661215]\n",
            " [ 0.82        7.23168494]\n",
            " [-0.08        4.16278839]\n",
            " [ 0.58        5.76998646]\n",
            " [ 0.88        6.09781368]]\n"
          ]
        }
      ],
      "source": [
        "import sklearn as skl\n",
        "from sklearn.model_selection import train_test_split\n",
        "Valsplit = train_test_split(data_train, test_size=0.35)\n",
        "Validate = Valsplit[1]\n",
        "training = Valsplit[0]\n",
        "print(Validate)"
      ]
    },
    {
      "cell_type": "markdown",
      "metadata": {
        "id": "xymHWtPDqOQW"
      },
      "source": [
        "**3. [0.75 балла]** Убедитесь, что, используя регуляризацию с хорошо подобранным коэффициентом $\\lambda$, ошибку на тестовой выборке можно сделать не больше, чем для многочлена оптимальной степени в модели без регуляризации."
      ]
    },
    {
      "cell_type": "code",
      "execution_count": 18,
      "metadata": {
        "collapsed": true,
        "id": "Bl8KmMIUqOQW",
        "colab": {
          "base_uri": "https://localhost:8080/"
        },
        "outputId": "7890ceee-0eee-4c46-ce37-638c7d256a28"
      },
      "outputs": [
        {
          "output_type": "stream",
          "name": "stdout",
          "text": [
            "0.0\n",
            " + x^6 -181.72885895501463  + x^5 533.7796924946954  + x^4 -516.9734258815924  + x^3 164.49118977793134  + x^2 9.148251287018642  + x^1 -6.330973200598981  + x^0 4.668627085397823 \n",
            "0.01\n",
            " + x^6 1.5235242979656758  + x^5 0.3005992161919934  + x^4 -0.8430981270791786  + x^3 -0.8833965747795691  + x^2 0.9370331068569691  + x^1 1.3881445512604693  + x^0 4.575555318100353 \n",
            "0.02\n",
            " + x^6 0.9494057940928833  + x^5 0.2798662812503632  + x^4 -0.3556519959999108  + x^3 -0.4163770149274836  + x^2 0.5932875381546968  + x^1 1.3587262926537527  + x^0 4.5821908829200355 \n",
            "0.03\n",
            " + x^6 0.7218417782746158  + x^5 0.25822528935440975  + x^4 -0.18254786547618307  + x^3 -0.22502022452032627  + x^2 0.506126703819608  + x^1 1.3270479519686287  + x^0 4.581617128864071 \n",
            "0.04\n",
            " + x^6 0.594831933494838  + x^5 0.24123603401106405  + x^4 -0.09323624209988854  + x^3 -0.11731853592340534  + x^2 0.4788416833609412  + x^1 1.3007690784026322  + x^0 4.579238051915363 \n",
            "0.05\n",
            " + x^6 0.5123606266313753  + x^5 0.22803082212104012  + x^4 -0.03842062523563362  + x^3 -0.046993911042153474  + x^2 0.47162757321052523  + x^1 1.2793456981421831  + x^0 4.576190286926896 \n",
            "0.06\n",
            " + x^6 0.454032146224859  + x^5 0.21763013266813047  + x^4 -0.001158096515111251  + x^3 0.0030661346528770726  + x^2 0.47226594726262805  + x^1 1.261692625843949  + x^0 4.572842298098155 \n",
            "0.07\n",
            " + x^6 0.41044667412058783  + x^5 0.2093128186753259  + x^4 0.025949337344368523  + x^3 0.04077924215541802  + x^2 0.4761538816229873  + x^1 1.2469234655882677  + x^0 4.569343209278116 \n",
            "0.08\n",
            " + x^6 0.3766013812354667  + x^5 0.20257034665670634  + x^4 0.04664894526724822  + x^3 0.07035744512797042  + x^2 0.481339832649956  + x^1 1.2343818312759707  + x^0 4.565762373856584 \n",
            "0.09\n",
            " + x^6 0.3495614077091024  + x^5 0.19704138852116987  + x^4 0.06304291280579792  + x^3 0.09426618445115686  + x^2 0.48693731513844923  + x^1 1.2235874116426426  + x^0 4.562135317217329 \n",
            "0.1\n",
            " + x^6 0.32747965592495776  + x^5 0.19246447268900135  + x^4 0.07640230594863073  + x^3 0.11405265746469899  + x^2 0.49253052830679117  + x^1 1.2141855468589184  + x^0 4.558481589588332 \n",
            "0.11\n",
            " + x^6 0.30913009683759995  + x^5 0.18864658712118312  + x^4 0.08754112429965731  + x^3 0.13074073931816207  + x^2 0.4979257117546126  + x^1 1.2059104430520673  + x^0 4.554812567447977 \n",
            "0.12\n",
            " + x^6 0.29366426789728556  + x^5 0.18544252788066504  + x^4 0.09700495420507788  + x^3 0.1450369376974969  + x^2 0.5030384622042897  + x^1 1.1985596979079447  + x^0 4.5511351764209556 \n",
            "0.13\n",
            " + x^6 0.28047491098726013  + x^5 0.18274114525950602  + x^4 0.10517327379289382  + x^3 0.15744555629179194  + x^2 0.5078395373133673  + x^1 1.191976773117597  + x^0 4.547453794409289 \n",
            "0.14\n",
            " + x^6 0.26911518276717034  + x^5 0.1804560143769379  + x^4 0.11231826184993556  + x^3 0.16833678635220453  + x^2 0.5123276145505862  + x^1 1.1860388339469192  + x^0 4.543771279858541 \n",
            "0.15\n",
            " + x^6 0.2592485376723015  + x^5 0.17851898275022016  + x^4 0.11864026330376033  + x^3 0.17798884943559518  + x^2 0.5165151614558515  + x^1 1.1806481978883996  + x^0 4.540089553249234 \n",
            "0.16\n",
            " + x^6 0.25061642608509327  + x^5 0.17687562265084056  + x^4 0.12429005352316647  + x^3 0.18661509437310195  + x^2 0.520420960177142  + x^1 1.1757262300732585  + x^0 4.536409938746943 \n",
            "0.17\n",
            " + x^6 0.24301679048696156  + x^5 0.17548196869383698  + x^4 0.1293833009418831  + x^3 0.19438199279918827  + x^2 0.5240661229085407  + x^1 1.1712089189748325  + x^0 4.53273337157141 \n",
            "0.18\n",
            " + x^6 0.23628934755543593  + x^5 0.1743021387907075  + x^4 0.13401024237016995  + x^3 0.20142142695261936  + x^2 0.5274719849828515  + x^1 1.167043622879599  + x^0 4.5290605274388005 \n",
            "0.19\n",
            " + x^6 0.23030526964959616  + x^5 0.17330657295060428  + x^4 0.13824232366857991  + x^3 0.20783928505757793  + x^2 0.5306590254519072  + x^1 1.1631866442021368  + x^0 4.525391905357534 \n",
            "0.2\n",
            " + x^6 0.22495979668469954  + x^5 0.1724707113203684  + x^4 0.1421368614155637  + x^3 0.21372160248951905  + x^2 0.5336463550685143  + x^1 1.1596013976082042  + x^0 4.521727881736978 \n",
            "0.21\n",
            " + x^6 0.22016684682428136  + x^5 0.17177398924117698  + x^4 0.1457403813125915  + x^3 0.21913903242478197  + x^2 0.5364515174398292  + x^1 1.1562570099254852  + x^0 4.518068746429398 \n",
            "0.22\n",
            " + x^6 0.21585501954322808  + x^5 0.17119906432745643  + x^4 0.14909105191553684  + x^3 0.22415015517540138  + x^2 0.5390904606914501  + x^1 1.153127238095673  + x^0 4.514414727151617 \n",
            "0.23\n",
            " + x^6 0.21196458697455003  + x^5 0.17073121557180498  + x^4 0.15222048746111033  + x^3 0.22880396484578805  + x^2 0.5415775988054955  + x^1 1.1501896242331213  + x^0 4.5107660062908455 \n",
            "0.24\n",
            " + x^6 0.20844519863446975  + x^5 0.1703578715264651  + x^4 0.15515510278023312  + x^3 0.23314176325353753  + x^2 0.5439259166825822  + x^1 1.1474248294577876  + x^0 4.507122732634576 \n",
            "0.25\n",
            " + x^6 0.20525410898081123  + x^5 0.17006823641578067  + x^4 0.15791714502556137  + x^3 0.23719862020413077  + x^2 0.5461470929364881  + x^1 1.1448161039539746  + x^0 4.503485029665339 \n",
            "0.26\n",
            " + x^6 0.20235479347840243  + x^5 0.169852991316722  + x^4 0.16052548875874473  + x^3 0.2410045120720298  + x^2 0.5482516259624598  + x^1 1.142348861861947  + x^0 4.499853001498722 \n",
            "0.27\n",
            " + x^6 0.1997158570145929  + x^5 0.16970405343628708  + x^4 0.16299625542343893  + x^3 0.2445852186904967  + x^2 0.5502489555205056  + x^1 1.1400103375937953  + x^0 4.496226737183856 \n",
            "0.28\n",
            " + x^6 0.197310164858174  + x^5 0.16961438075380433  + x^4 0.16534330087882612  + x^3 0.24796303653515506  + x^2 0.5521475759630047  + x^1 1.1377893059413147  + x^0 4.492606313853098 \n",
            "0.29\n",
            " + x^6 0.1951141448295194  + x^5 0.16957781238233027  + x^4 0.16757860267629476  + x^3 0.2511573507751237  + x^2 0.553955139476256  + x^1 1.1356758525696538  + x^0 4.488991799054216 \n",
            "0.3\n",
            " + x^6 0.1931072224851316  + x^5 0.16958893727500782  + x^4 0.16971257035359708  + x^3 0.25418509782051874  + x^2 0.555678548974951  + x^1 1.133661184612661  + x^0 4.485383252496142 \n",
            "0.31\n",
            " + x^6 0.19127136058236735  + x^5 0.1696429855884784  + x^4 0.17175429604108194  + x^3 0.25706114213012865  + x^2 0.5573240409781639  + x^1 1.131737473414171  + x^0 4.481780727370182 \n",
            "0.32\n",
            " + x^6 0.18959068098795845  + x^5 0.16973573828227412  + x^4 0.17371175837127817  + x^3 0.25979858530942646  + x^2 0.558897259148883  + x^1 1.1298977232135599  + x^0 4.478184271361119 \n",
            "0.33\n",
            " + x^6 0.18805115227931793  + x^5 0.16986345148997664  + x^4 0.17559198954705105  + x^3 0.2624090213173186  + x^2 0.5604033193303386  + x^1 1.1281356609033748  + x^0 4.474593927430002 \n",
            "0.34\n",
            " + x^6 0.1866403300756281  + x^5 0.17002279292957537  + x^4 0.17740121311584214  + x^3 0.2649027484570315  + x^2 0.5618468669534727  + x^1 1.1264456430059406  + x^0 4.4710097344274615 \n",
            "0.35000000000000003\n",
            " + x^6 0.18534713998435187  + x^5 0.17021078818183513  + x^4 0.17914495827889151  + x^3 0.26728894647479945  + x^2 0.5632321276649616  + x^1 1.124822576800445  + x^0 4.467431727580182 \n",
            "0.36\n",
            " + x^6 0.18416169521069106  + x^5 0.17042477510112544  + x^4 0.1808281552754793  + x^3 0.2695758253024717  + x^2 0.5645629519676396  + x^1 1.1232618531421625  + x^0 4.463859938881861 \n",
            "0.37\n",
            " + x^6 0.1830751425326317  + x^5 0.1706623649630321  + x^4 0.1824552154043025  + x^3 0.27177075061331835  + x^2 0.5658428545970215  + x^1 1.1217592889918997  + x^0 4.460294397411491 \n",
            "0.38\n",
            " + x^6 0.18207953162009727  + x^5 0.17092140921953822  + x^4 0.18403009849780746  + x^3 0.27388035031090185  + x^2 0.5670750492785205  + x^1 1.1203110780493948  + x^0 4.456735129596089 \n",
            "0.39\n",
            " + x^6 0.1811677036695529  + x^5 0.17119997094339692  + x^4 0.18555637008978487  + x^3 0.2759106052518728  + x^2 0.5682624794395587  + x^1 1.1189137481812645  + x^0 4.453182159430513 \n",
            "0.4\n",
            " + x^6 0.18033319610123366  + x^5 0.17149630021108375  + x^4 0.18703725007062458  + x^3 0.2778669268660239  + x^2 0.5694078453799933  + x^1 1.1175641245710184  + x^0 4.44963550866386 \n",
            "0.41000000000000003\n",
            " + x^6 0.1795701606789674  + x^5 0.17180881280766275  + x^4 0.18847565427596788  + x^3 0.27975422383377285  + x^2 0.5705136283419575  + x^1 1.1162592977081751  + x^0 4.446095196959654 \n",
            "0.42\n",
            " + x^6 0.17887329289671444  + x^5 0.17213607174433718  + x^4 0.18987423018016655  + x^3 0.2815769595825952  + x^2 0.5715821118651109  + x^1 1.114996595486238  + x^0 4.442561242035252 \n",
            "0.43\n",
            " + x^6 0.17823777086421916  + x^5 0.17247677116697224  + x^4 0.1912353876492099  + x^3 0.28333920204742824  + x^2 0.5726154007614218  + x^1 1.1137735588030433  + x^0 4.4390336597846245 \n",
            "0.44\n",
            " + x^6 0.17765920223315895  + x^5 0.17282972230404542  + x^4 0.1925613255345245  + x^3 0.2850446668845366  + x^2 0.5736154380029962  + x^1 1.1125879201572173  + x^0 4.435512464387666 \n",
            "0.45\n",
            " + x^6 0.1771335779571107  + x^5 0.17319384116040729  + x^4 0.1938540547512553  + x^3 0.28669675512426956  + x^2 0.574584019775969  + x^1 1.1114375848169151  + x^0 4.431997668408542 \n",
            "0.46\n",
            " + x^6 0.17665723188039475  + x^5 0.173568137710387  + x^4 0.195115418372804  + x^3 0.2882985860814856  + x^2 0.5755228089216924  + x^1 1.1103206142042839  + x^0 4.428489282884927 \n",
            "0.47000000000000003\n",
            " + x^6 0.17622680531680554  + x^5 0.17395170638269514  + x^4 0.1963471091834248  + x^3 0.2898530262073623  + x^2 0.5764333469577221  + x^1 1.1092352111949009  + x^0 4.424987317409657 \n",
            "0.48\n",
            " + x^6 0.17583921591451437  + x^5 0.17434371766148302  + x^4 0.19755068505735404  + x^3 0.291362714455859  + x^2 0.5773170648463192  + x^1 1.1081797070769364  + x^0 4.421491780205933 \n",
            "0.49\n",
            " + x^6 0.17549163021461398  + x^5 0.17474341065489604  + x^4 0.19872758247312597  + x^3 0.2928300846473997  + x^2 0.5781752926559897  + x^1 1.1071525499536703  + x^0 4.418002678197056 \n",
            "0.5\n",
            " + x^6 0.17518143940233594  + x^5 0.1751500865043703  + x^4 0.19987912842240887  + x^3 0.2942573852368013  + x^2 0.5790092682443144  + x^1 1.1061522944044961  + x^0 4.4145200170713474 \n",
            "0.51\n",
            " + x^6 0.17490623782664008  + x^5 0.17556310252651117  + x^4 0.20100655093242106  + x^3 0.2956466968312997  + x^2 0.5798201450731052  + x^1 1.105177592246161  + x^0 4.411043801342922 \n",
            "0.52\n",
            " + x^6 0.17466380392662767  + x^5 0.17598186699510932  + x^4 0.2021109883872019  + x^3 0.2969999477522087  + x^2 0.5806089992536505  + x^1 1.1042271842585918  + x^0 4.407574034408763 \n",
            "0.53\n",
            " + x^6 0.17445208325654502  + x^5 0.17640583448365577  + x^4 0.20319349780540633  + x^3 0.29831892789088416  + x^2 0.5813768359075278  + x^1 1.103299892758722  + x^0 4.4041107186024835 \n",
            "0.54\n",
            " + x^6 0.17426917334519615  + x^5 0.1768345017000072  + x^4 0.20425506220888504  + x^3 0.2996053010736962  + x^2 0.5821245949179665  + x^1 1.1023946149212007  + x^0 4.400653855245117 \n",
            "0.55\n",
            " + x^6 0.1741133101631402  + x^5 0.17726740375404237  + x^4 0.205296597196929  + x^3 0.300860616120153  + x^2 0.5828531561380125  + x^1 1.101510316758921  + x^0 4.397203444693183 \n",
            "0.56\n",
            " + x^6 0.17398285600218993  + x^5 0.17770411080717244  + x^4 0.2063189568247971  + x^3 0.30208631675285924  + x^2 0.5835633441131736  + x^1 1.100646027687587  + x^0 4.393759486384294 \n",
            "0.5700000000000001\n",
            " + x^6 0.17387628859872933  + x^5 0.17814422505930386  + x^4 0.20732293887126577  + x^3 0.3032837504962734  + x^2 0.5842559323702048  + x^1 1.099800835608372  + x^0 4.3903219788804435 \n",
            "0.58\n",
            " + x^6 0.17379219135464172  + x^5 0.17858737803464503  + x^4 0.20830928956835604  + x^3 0.3044541766828201  + x^2 0.5849316473168658  + x^1 1.0989738824513802  + x^0 4.386890919909198 \n",
            "0.59\n",
            " + x^6 0.17372924452916644  + x^5 0.17903322813258216  + x^4 0.20927870785656597  + x^3 0.30559877366932753  + x^2 0.5855911717932442  + x^1 1.0981643601293252  + x^0 4.383466306402888 \n",
            "0.6\n",
            " + x^6 0.17368621729132835  + x^5 0.1794814584143823  + x^4 0.21023184922053467  + x^3 0.3067186453534473  + x^2 0.586235148309058  + x^1 1.0973715068578522  + x^0 4.380048134535971 \n",
            "0.61\n",
            " + x^6 0.17366196053662766  + x^5 0.17993177459979032  + x^4 0.21116932915275743  + x^3 0.3078148270679733  + x^2 0.5868641819995608  + x^1 1.0965946038034338  + x^0 4.376636399760639 \n",
            "0.62\n",
            " + x^6 0.1736554003839355  + x^5 0.18038390325092346  + x^4 0.21209172628711326  + x^3 0.30888829092158193  + x^2 0.5874788433273402  + x^1 1.0958329720248898  + x^0 4.373231096840796 \n",
            "0.63\n",
            " + x^6 0.17366553227878634  + x^5 0.1808375901236219  + x^4 0.21299958523849857  + x^3 0.3099399506457193  + x^2 0.5880796705546507  + x^1 1.0950859696787698  + x^0 4.369832219884498 \n",
            "0.64\n",
            " + x^6 0.17369141563835808  + x^5 0.1812925986687072  + x^4 0.21389341918040353  + x^3 0.3109706660003303  + x^2 0.5886671720089717  + x^1 1.094352989461671  + x^0 4.36643976237492 \n",
            "0.65\n",
            " + x^6 0.1737321689810771  + x^5 0.18174870866765455  + x^4 0.21477371218837962  + x^3 0.31198124678446654  + x^2 0.5892418281612914  + x^1 1.0936334562662917  + x^0 4.363053717199939 \n",
            "0.66\n",
            " + x^6 0.17378696549073758  + x^5 0.18220571498900695  + x^4 0.21564092137404925  + x^3 0.31297245649288935  + x^2 0.5898040935345314  + x^1 1.092926825030145  + x^0 4.359674076680423 \n",
            "0.67\n",
            " + x^6 0.17385502897065025  + x^5 0.18266342645337358  + x^4 0.21649547883123368  + x^3 0.31394501565429084  + x^2 0.5903543984584811  + x^1 1.0922325787586369  + x^0 4.356300832597233 \n",
            "0.68\n",
            " + x^6 0.17393563014855443  + x^5 0.18312166479632558  + x^4 0.2173377934133974  + x^3 0.31489960488350993  + x^2 0.5908931506846496  + x^1 1.0915502267057968  + x^0 4.352933976217071 \n",
            "0.6900000000000001\n",
            " + x^6 0.17402808329745134  + x^5 0.1835802637195223  + x^4 0.21816825235930787  + x^3 0.31583686767558444  + x^2 0.5914207368745273  + x^1 1.090879302697939  + x^0 4.349573498317189 \n",
            "0.7000000000000001\n",
            " + x^6 0.1741317431414781  + x^5 0.18403906802159428  + x^4 0.21898722278191146  + x^3 0.31675741296714505  + x^2 0.5919375239720428  + x^1 1.090219363587274  + x^0 4.346219389208998 \n",
            "0.71\n",
            " + x^6 0.17424600201918913  + x^5 0.18449793280120805  + x^4 0.21979505303386224  + x^3 0.3176618174872302  + x^2 0.5924438604706189  + x^1 1.0895699878236065  + x^0 4.342871638760682 \n",
            "0.72\n",
            " + x^6 0.17437028727979625  + x^5 0.18495672272543984  + x^4 0.22059207396135644  + x^3 0.31855062791772065  + x^2 0.5929400775844311  + x^1 1.0889307741333578  + x^0 4.339530236418806 \n",
            "0.73\n",
            " + x^6 0.17450405889034581  + x^5 0.18541531135747907  + x^4 0.22137860005708765  + x^3 0.3194243628810138  + x^2 0.593426490331596  + x^1 1.0883013402968158  + x^0 4.336195171229006 \n",
            "0.74\n",
            " + x^6 0.17464680723439863  + x^5 0.185873580538142  + x^4 0.2221549305215606  + x^3 0.32028351477096795  + x^2 0.5939033985374241  + x^1 1.0876813220146744  + x^0 4.332866431855774 \n",
            "0.75\n",
            " + x^6 0.17479805108450025  + x^5 0.18633141981632953  + x^4 0.22292135024130977  + x^3 0.3211285514413524  + x^2 0.5943710877640134  + x^1 1.0870703718565842  + x^0 4.329544006601401 \n",
            "0.76\n",
            " + x^6 0.17495733573282674  + x^5 0.18678872592409398  + x^4 0.22367813069156997  + x^3 0.32195991776461425  + x^2 0.5948298301727668  + x^1 1.0864681582843443  + x^0 4.326227883424102 \n",
            "0.77\n",
            " + x^6 0.1751242312658532  + x^5 0.18724540229225958  + x^4 0.22442553077014393  + x^3 0.32277803707249253  + x^2 0.5952798853249296  + x^1 1.0858743647440143  + x^0 4.322918049955355 \n",
            "0.78\n",
            " + x^6 0.17529833097023928  + x^5 0.18770135860314854  + x^4 0.22516379756854937  + x^3 0.3235833124887517  + x^2 0.5957215009258742  + x^1 1.085288688820689  + x^0 4.319614493516513 \n",
            "0.79\n",
            " + x^6 0.17547924985866256  + x^5 0.188156510377143  + x^4 0.22589316708602594  + x^3 0.32437612816347755  + x^2 0.596154913517023  + x^1 1.084710841451226  + x^0 4.3163172011347 \n",
            "0.8\n",
            " + x^6 0.1756666233050688  + x^5 0.1886107785901916  + x^4 0.22661386489114702  + x^3 0.3251568504171804  + x^2 0.5965803491200262  + x^1 1.084140546190291  + x^0 4.313026159558018 \n",
            "0.81\n",
            " + x^6 0.17586010578022665  + x^5 0.18906408931964286  + x^4 0.22732610673571793  + x^3 0.325925828802536  + x^2 0.5969980238368142  + x^1 1.083577538525135  + x^0 4.309741355270133 \n",
            "0.8200000000000001\n",
            " + x^6 0.1760593696789568  + x^5 0.18951637341603997  + x^4 0.2280300991248024  + x^3 0.32668339709041455  + x^2 0.5974081444091093  + x^1 1.0830215652356554  + x^0 4.306462774504198 \n",
            "0.8300000000000001\n",
            " + x^6 0.1762641042315552  + x^5 0.18996756619873612  + x^4 0.2287260398465789  + x^3 0.3274298741865574  + x^2 0.5978109087403777  + x^1 1.0824723837960386  + x^0 4.303190403256229 \n",
            "0.84\n",
            " + x^6 0.17647401449243413  + x^5 0.1904176071733508  + x^4 0.22941411846534615  + x^3 0.32816556498450433  + x^2 0.5982065063832881  + x^1 1.081929761814846  + x^0 4.299924227297888 \n",
            "0.85\n",
            " + x^6 0.1766888203996868  + x^5 0.19086643976930037  + x^4 0.2300945167806563  + x^3 0.328890761159938  + x^2 0.598595118995134  + x^1 1.0813934765106497  + x^0 4.296664232188729 \n",
            "0.86\n",
            " + x^6 0.17690825589990705  + x^5 0.19131401109582538  + x^4 0.23076740925523526  + x^3 0.3296057419110135  + x^2 0.59897692076379  + x^1 1.0808633142205768  + x^0 4.293410403287931 \n",
            "0.87\n",
            " + x^6 0.17713206813307986  + x^5 0.19176027171499568  + x^4 0.23143296341424177  + x^3 0.3303107746490576  + x^2 0.599352078806245  + x^1 1.0803390699392783  + x^0 4.290162725765524 \n",
            "0.88\n",
            " + x^6 0.17736001667277193  + x^5 0.19220517543041019  + x^4 0.23209134021803277  + x^3 0.3310061156433426  + x^2 0.5997207535418835  + x^1 1.0798205468861795  + x^0 4.286921184613159 \n",
            "0.89\n",
            " + x^6 0.1775918728174116  + x^5 0.1926486790903101  + x^4 0.2327426944105438  + x^3 0.33169201062358866  + x^2 0.6000830990422152  + x^1 1.0793075560989103  + x^0 4.283685764654411 \n",
            "0.9\n",
            " + x^6 0.17782741892861165  + x^5 0.19309074240404853  + x^4 0.2333871748450965  + x^3 0.33236869534334024  + x^2 0.6004392633588792  + x^1 1.0787999160510868  + x^0 4.280456450554645 \n",
            "0.91\n",
            " + x^6 0.17806644781305903  + x^5 0.19353132777088977  + x^4 0.234024924789381  + x^3 0.33303639610716795  + x^2 0.6007893888314225  + x^1 1.0782974522927014  + x^0 4.277233226830481 \n",
            "0.92\n",
            " + x^6 0.1783087621446075  + x^5 0.1939704001201438  + x^4 0.23465608221111983  + x^3 0.3336953302644051  + x^2 0.6011336123762434  + x^1 1.0777999971116008  + x^0 4.274016077858851 \n",
            "0.93\n",
            " + x^6 0.17855417392366238  + x^5 0.19440792676189808  + x^4 0.2352807800459098  + x^3 0.33434570667187635  + x^2 0.6014720657581266  + x^1 1.0773073892145046  + x^0 4.270804987885681 \n",
            "0.9400000000000001\n",
            " + x^6 0.17880250397098765  + x^5 0.19484387724743485  + x^4 0.23589914644846982  + x^3 0.33498772612784344  + x^2 0.6018048758455002  + x^1 1.0768194734263443  + x^0 4.267599941034199 \n",
            "0.9500000000000001\n",
            " + x^6 0.17905358145353714  + x^5 0.1952782232387434  + x^4 0.23651130502854398  + x^3 0.3356215817793004  + x^2 0.6021321648505487  + x^1 1.0763361004065815  + x^0 4.264400921312913 \n",
            "0.96\n",
            " + x^6 0.1793072434399349  + x^5 0.19571093838637807  + x^4 0.2371173750725336  + x^3 0.3362474595044553  + x^2 0.6024540505552501  + x^1 1.0758571263814702  + x^0 4.261207912623237 \n",
            "0.97\n",
            " + x^6 0.1795633344834541  + x^5 0.19614199821507855  + x^4 0.23771747175187066  + x^3 0.3368655382721871  + x^2 0.6027706465242602  + x^1 1.0753824128911373  + x^0 4.258020898766813 \n",
            "0.98\n",
            " + x^6 0.17982170623063623  + x^5 0.19657138001663885  + x^4 0.23831170631907897  + x^3 0.3374759904801144  + x^2 0.6030820623055223  + x^1 1.0749118265505322  + x^0 4.254839863452513 \n",
            "0.99\n",
            " + x^6 0.180082217053631  + x^5 0.19699906274946474  + x^4 0.23890018629233764  + x^3 0.3380789822726486  + x^2 0.6033884036194241  + x^1 1.0744452388234143  + x^0 4.2516647903031535 \n",
            "Искомая лямбда - 0.21\n",
            " + x^6 0.22016684682428136  + x^5 0.17177398924117698  + x^4 0.1457403813125915  + x^3 0.21913903242478197  + x^2 0.5364515174398292  + x^1 1.1562570099254852  + x^0 4.518068746429398 \n",
            "Ошибка даже уменьшилась - 0.3441212162142352\n"
          ]
        }
      ],
      "source": [
        "x_training = training[:,0]\n",
        "y_training = training[:,1]\n",
        "x_val = Validate[:,0]\n",
        "y_val = Validate[:,1]\n",
        "lambd = np.arange(0, 1, 0.01)\n",
        "lowmin = 1000\n",
        "anwser = -1\n",
        "for e in lambd:\n",
        "  print(e)\n",
        "  coefs = Lingres(6, x_training, y_training, e)\n",
        "  Mean_square = 0\n",
        "  for j in range(len(x_val)):\n",
        "    Mean_square += (f(coefs,x_val[j]) - y_val[j])**2\n",
        "  if Mean_square/len(x_val) < lowmin:\n",
        "    anwser = e\n",
        "    lowmin = Mean_square/len(x_val)\n",
        "print(\"Искомая лямбда - \" + str(anwser))\n",
        "\n",
        "truesolve = Lingres(6, x_training, y_training, anwser)\n",
        "Mean_square = 0\n",
        "for j in range(len(x_test)):\n",
        "    Mean_square += (f(truesolve,x_test[j]) - y_test[j])**2\n",
        "print(\"Ошибка даже уменьшилась - \" + str(Mean_square/len(x_test)))\n",
        "\n"
      ]
    },
    {
      "cell_type": "markdown",
      "metadata": {
        "id": "oURPN62hqOQW"
      },
      "source": [
        "**4. [0.25 балла]** Для этого $\\lambda$ сравните $\\det(X^TX)$ и $\\det(X^TX + \\lambda E)$. Теоретически объясните полученный результат, доказав, что $\\det(X^TX+\\lambda E) > 0$ при $\\lambda>0$."
      ]
    },
    {
      "cell_type": "markdown",
      "metadata": {
        "id": "N70vmy1KqOQW"
      },
      "source": [
        "Докажем, что $det(X^{T}X +\\lambda E) > 0$, при $λ > 0$. Сначала, докажем такую лемму по индукции: Если мы добавим неотрицательное число к каждому элементу на диагонали матрицы $X^{T}X$ то определитель новой матрицы неотрицателен. База очевидна. Переход: Последовательно разложим матрицу по строке таким образом: одна строка совпадает со строкой матрицы $X^{T}X$, а вторая содержит добавленное ранее неотрицательное число в диагональной клетке, а в остальных нули. Соответсвенно определитель новой матрицы будет суммой определителей матрицы $X^{T}X$ и матриц c удаленной i-ой строкой и i-ым столбцом умноженных на неотрицательные числа. Все такие слагаемые неотрицательны, значит определитель новой матрицы неотрицателен. \n",
        "Теперь докажем по индукции основное утверждение:\n",
        "База очевидна. Переход: Разложим $X^{T}X +\\lambda E$ по первой строке, также, как в прошлом докве. Тогда, $X^{T}X +\\lambda E$ равен сумме определителей матрицы с неотрицательным определителем(см.лемму) и произведению $λ * det(G(x_2,\\dots, x_n) + λ E)$, а такое произведение больше нуля по предположению индукции, ч.т.д.\n"
      ]
    },
    {
      "cell_type": "markdown",
      "source": [],
      "metadata": {
        "id": "7gUYOiO2zkDd"
      }
    },
    {
      "cell_type": "markdown",
      "metadata": {
        "id": "rl0oq4uvqOQX"
      },
      "source": [
        "**5. [0.25 балла]** Нарисуйте на одном чертеже графики многочленов шестой степени, приближающих неизвестную функцию, для модели с регуляризацией и без."
      ]
    },
    {
      "cell_type": "code",
      "source": [
        "draw = np.linspace(-0.2,1.0)\n",
        "plt.plot(draw, f(truesolve, x))\n",
        "plt.xlabel(\"x\")\n",
        "plt.ylabel(\"y\")\n",
        "plt.plot(draw, f(Lingres(6, x_train, y_train, 0), x), color='orange', label = \"noreg\")\n",
        "plt.title(\"L2regulation\")\n",
        "plt.legend (('regularization', 'noreg'))\n",
        "plt.scatter(x_test, y_test)"
      ],
      "metadata": {
        "id": "lZJfoosoWKEK",
        "colab": {
          "base_uri": "https://localhost:8080/",
          "height": 527
        },
        "outputId": "c83a2be2-9013-4af0-f791-3d3a644e7d69"
      },
      "execution_count": 19,
      "outputs": [
        {
          "output_type": "stream",
          "name": "stdout",
          "text": [
            " + x^6 -229.97013339699964  + x^5 581.453298187213  + x^4 -481.5101328381272  + x^3 121.25709711768631  + x^2 16.0029039892461  + x^1 -4.597179324613547  + x^0 4.3837950110265975 \n"
          ]
        },
        {
          "output_type": "execute_result",
          "data": {
            "text/plain": [
              "<matplotlib.collections.PathCollection at 0x7f84d61250d0>"
            ]
          },
          "metadata": {},
          "execution_count": 19
        },
        {
          "output_type": "display_data",
          "data": {
            "text/plain": [
              "<Figure size 640x480 with 1 Axes>"
            ],
            "image/png": "[encoded data removed]"
          },
          "metadata": {}
        }
      ]
    },
    {
      "cell_type": "markdown",
      "metadata": {
        "id": "Ue7wuRSmqOQX"
      },
      "source": [
        "**6. [0.25 балла]** Чем первый из них выгодно отличается от второго?"
      ]
    },
    {
      "cell_type": "markdown",
      "metadata": {
        "id": "WkpFHQRjqOQX"
      },
      "source": [
        "Многочлен, полученный с помощью регуляризации более пологий, он гораздо лучше отражает тренд, так как мы ограничили его возможность переобучаться на конкретных данных."
      ]
    },
    {
      "cell_type": "markdown",
      "metadata": {
        "id": "3iMIX5tZqOQX"
      },
      "source": [
        "**7. [0.75 балла]** Пусть заданы $X\\in \\text{Mat}_{n \\times k}(\\mathbb{R})$ ($k \\leqslant n$), $y \\in \\mathbb{R}^n$, $\\lambda \\geqslant 0$, а также известно, что $\\text{rk}~X = k$. Решите теоретически следующую задачу оптимизации:\n",
        "$$|Xa - y|^2 + \\lambda|a|^2\\rightarrow\\min\\limits_{a \\in \\mathbb{R}^k}.$$\n",
        "(То есть найдите все векторы $a \\in \\mathbb{R}^k$, для которых выражение слева принимает наименьшее возможное значение.) В частности, докажите существование решений и укажите их количество в зависимости от входных данных."
      ]
    },
    {
      "cell_type": "markdown",
      "metadata": {
        "id": "kn3zeYm8qOQX"
      },
      "source": [
        "$|Xa - y|^2 + \\lambda|a|^2$\\\n",
        "Продифференцируем по вектору a используя правило дифференцирования сложной функции:\\\n",
        "$|X(a+h) - y|^2 = (X(a+h) - y, X(a+h) - y) = |Xa - y, Xa - y| + 2|Xa - y, Xh| + o(h^2) = 2X^{T}(Xa - y)$, дифференцирование вектора - очев.\\\n",
        "$2X^T(Xa - y) + 2\\lambda a = 0$\n",
        "\n",
        "или\n",
        "\n",
        "$(X^TX + \\lambda I)a = X^Ty$\n",
        "\n",
        "Решая это уравнение, мы получим:\n",
        "\n",
        "$a = (X^TX + \\lambda I)^{-1}X^Ty$\\\n",
        "Матрица $X$ имеет полный ранг, соответсвенно $det(X^TX + \\lambda I) \\ne 0$, значит решение единственное."
      ]
    },
    {
      "cell_type": "markdown",
      "metadata": {
        "id": "qyty-nT4qOQX"
      },
      "source": [
        "Интуитивно это можно понимать так: мы ищем компромисс между минимизацией длины разности $|Xa - y|$ (то есть точностью решения задачи регрессии) и тем, чтобы компоненты вектора $a$ не становились слишком большими по модулю."
      ]
    },
    {
      "cell_type": "markdown",
      "source": [],
      "metadata": {
        "id": "-g8Hfxc1Eu4A"
      }
    },
    {
      "cell_type": "markdown",
      "metadata": {
        "id": "hYVu62REqOQY"
      },
      "source": [
        "**8. [0.25 балла]** Попробуйте объяснить, почему регуляризовать (штрафовать за слишком большую абсолютную величину) коэффициент при константном признаке (который состоит из одних единиц) — плохая идея."
      ]
    },
    {
      "cell_type": "code",
      "source": [],
      "metadata": {
        "id": "gujovOzrCm28"
      },
      "execution_count": null,
      "outputs": []
    },
    {
      "cell_type": "markdown",
      "metadata": {
        "id": "9huVuXRwqOQY"
      },
      "source": [
        "Коэффицент при константом признаке в каком-то смысле является регуляризацией сам по себе. Попробую пояснить подробнее: Когда все компоненты вектора близки к нулю, они слабо влияют на описываемый признак(исходя из здравого смысла), при этом значение выражаемой переменной может варьироваться очень сильно из-за факторов, неучтенных в нашей модели, константый признак в каком-то смысле описывает влияние факторов, неучтенных в модели. Накладывая ограничения на константый признак мы фактически требуем модель описать то, что она не может описать физически, следствием этого будет переобучение."
      ]
    },
    {
      "cell_type": "markdown",
      "metadata": {
        "id": "U_fJfTQmqOQY"
      },
      "source": [
        "**9. [0.5 балла]** Пусть теперь $\\text{rk}~X < k$. Всегда ли в этом случае существует решение? Если существует, то является ли оно единственным? Ответ обоснуйте."
      ]
    },
    {
      "cell_type": "markdown",
      "metadata": {
        "id": "FXHRvj3kqOQY"
      },
      "source": [
        "В данном случае задача сводится к решению системы уравнений вида $Qx = c$, где $Q$ - вырожденная квадратная матрица. Такая система может иметь как одно, так и бесконечно много решений, это будет зависить от того, лежит ли вектор $c$ в линейной оболочке векторов, записанных в столбцы матрицы $Q$, или нет(Если лежит, то решений бесконечно много, если нет, то ни одного)."
      ]
    },
    {
      "cell_type": "markdown",
      "metadata": {
        "id": "StfBsh05qOQY"
      },
      "source": [
        "**10. [0.25 балла]** Покажите теоретически, что если решений бесконечно много, то среди них обязательно найдутся решения со сколь угодно большими по модулю компонентами вектора $a$. Почему большие веса в линейной модели — плохо?"
      ]
    },
    {
      "cell_type": "markdown",
      "metadata": {
        "id": "U46zoG88qOQY"
      },
      "source": [
        "Если система линейных уравнений имеет бесконечно много решений, то там есть свободные переменные, а их значения могут быть любыми. \\\n",
        "Большие веса векторов в данном случае являются симптомом переобучения:\n",
        "Так как $rk X < k$ то часть векторов линейно зависимы, соответсвенно существует много способов \"выдать\" им коэффиценты так, чтобы ошибка на обучающей выборке была маленькой. Из-за этого мы можем получать совершенно контринтуитивные зависимости(Пример: Если строить зависимость цены квартиры от ее размера многочленом большой степени, то вполне возможно, что коэффицент при наибольшей степени многочлена будет отрицательным(ничто этому не мешает), что противоречит здравому смыслу)."
      ]
    },
    {
      "cell_type": "markdown",
      "metadata": {
        "id": "C5AyMk6rqOQZ"
      },
      "source": [
        "### Задание 4. Онлайн-обучение линейной регрессии (3 балла)"
      ]
    },
    {
      "cell_type": "markdown",
      "metadata": {
        "id": "xI-JbvXzqOQZ"
      },
      "source": [
        "Раньше мы работали в ситуации, когда объекты $x_i$ и значения $y_i$ даны с самого начала и всегда доступны. Допустим теперь, что пары $(x_i, y_i)$ поступают к нам по одной и мы не можем себе позволить хранить их все в памяти (это может быть актуально, например, если вы пытаетесь обучить модель на устройстве со сравнительно небольшим количеством оперативной памяти: скажем, на мобильном телефоне или на бортовом компьютере спутника связи). В этом случае нам нужно уметь решать следующую задачу:\n",
        "\n",
        "**Известно:** решение задачи регрессии для датасета $(x_1, y_1),\\ldots,(x_t,y_t)$;\n",
        "\n",
        "**На вход поступает:** новая пара $(x_{t+1}, y_{t+1})$;\n",
        "\n",
        "**Требуется:** быстро (за время, не зависящее от $t$) отыскать решение задачи регрессии для расширенного датасета $(x_1, y_1),\\ldots,(x_t,y_t),(x_{t+1}, y_{t+1})$."
      ]
    },
    {
      "cell_type": "markdown",
      "metadata": {
        "id": "trXdoqPfqOQZ"
      },
      "source": [
        "Обозначим $X_{(t)} = (x_1\\ldots x_t)^T$ и $y_{(t)} = (y_1,\\ldots,y_t)^T$. Тогда, как мы хорошо помним, решение задачи регрессии для датасета $(x_1, y_1),\\ldots,(x_t,y_t)$ имеет вид $\\hat{a}_{(t)} = \\left(X^T_{(t)}X_{(t)}\\right)^{-1}X^T_{(t)}y_{(t)}$. Размеры матриц $X^T_{(t)}X_{(t)}$ и $X^T_{(t)}y_{(t)}$ не зависят от $t$, поэтому их мы, пожалуй, можем себе позволить хранить в памяти."
      ]
    },
    {
      "cell_type": "markdown",
      "metadata": {
        "id": "dVMx4fCyqOQZ"
      },
      "source": [
        "**1. [1 балл]** И вот ваше первое задание в этом разделе: придумайте алгоритм, принимающий на вход матрицы $X^T_{(t)}X_{(t)}$ и $X^T_{(t)}y_{(t)}$, а также пару $(x_{t+1}, y_{t+1})$, и вычисляющий матрицы $X^T_{(t+1)}X_{(t+1)}$ и $X^T_{(t+1)}y_{(t+1)}$. Сложность вашего алгоритма не должна зависеть от $t$. Опишите ваш алгоритм теоретически и обоснуйте его сложность."
      ]
    },
    {
      "cell_type": "markdown",
      "metadata": {
        "id": "DO3cSnAQqOQZ"
      },
      "source": [
        "Алгоритм будет таким: Матрица $X_{t+1}^{T} X_{t+1}$ - получается из матрицы $X^T_{(t)}X_{(t)}$ прибавлением к $(X^T_{(t)}X_{(t)})_{i, j}$ произведения $x_{t+1, i} * x_{t+1, j}$.Сложность такого алгоритма $O(d^2)$, где $d$ - размерность вектора. Матрица $X^T_{(t+1)}y_{(t+1)}$ получается из матрицы $X^T_{(t)}y_{(t)}$ добавлением к $(X^T_{(t)}y_{(t)})_{i,j}$ произведения $x_{t+1,i} * y_{t+1,j}.$Сложность такого алгоритма $O(d^2)$, где $d$ - размерность вектора. Соответсвенно итоговая сложность - $O(d^2)$."
      ]
    },
    {
      "cell_type": "markdown",
      "metadata": {
        "id": "roPL0vwzqOQZ"
      },
      "source": [
        "**2. [2 балла]** Теперь настало время написать немного кода и порисовать красивые картинки. Вам нужно будет реализовать симуляцию онлайн-обучения регрессии для задачи приближения функции (в данном случае $f_{true}(x) = 2x\\sin(5x) + x^2 - 1$; все значения искажены небольшим нормальным шумом) многочленом степени не выше 5."
      ]
    },
    {
      "cell_type": "code",
      "execution_count": 33,
      "metadata": {
        "id": "ehAVEhm6qOQa",
        "colab": {
          "base_uri": "https://localhost:8080/",
          "height": 448
        },
        "outputId": "d01102c5-c4d3-4001-c448-2c00ff40ed83"
      },
      "outputs": [
        {
          "output_type": "stream",
          "name": "stdout",
          "text": [
            "[-0.31905184  0.61187925 -0.00307964 -0.3105644   0.35024436 -0.05329773]\n"
          ]
        },
        {
          "output_type": "display_data",
          "data": {
            "text/plain": [
              "<Figure size 640x480 with 1 Axes>"
            ],
            "image/png": "[encoded data removed]"
          },
          "metadata": {}
        }
      ],
      "source": [
        "from IPython.display import clear_output\n",
        "\n",
        "f_true = lambda x: 2*x*np.sin(5*x) + x**2 - 1 # this is the true function\n",
        "\n",
        "# We need this to make the plot of f_true:\n",
        "x_grid = np.linspace(-2,5,100) # 100 linearly spaced numbers\n",
        "x_grid_enl = np.hstack((x_grid.reshape((100,1))**j for j in range(6)))\n",
        "y_grid = f_true(x_grid)\n",
        "a = np.zeros((6,6))\n",
        "b = np.zeros(6)\n",
        "\n",
        "for i in range(200):\n",
        "\n",
        "    x_new = np.random.uniform(-2, 5)\n",
        "    y_new = f_true(x_new) + 2*np.random.randn()\n",
        "    for m in range(6):\n",
        "      b[m] += (x_new**m) * (y_new)\n",
        "      for j in range(6):\n",
        "        a[m][j] += (x_new**m) * (x_new**j)\n",
        "    # the rest of the code is just bells and whistles\n",
        "    if (i+1)%5==0:\n",
        "        clear_output(True)\n",
        "        plt.plot(x_grid,y_grid, color='blue', label='true f')\n",
        "        plt.scatter(x_new, y_new, color='red')\n",
        "        \n",
        "        coefs = np.array(np.dot(np.linalg.inv(a), b))\n",
        "        print(coefs)\n",
        "        y_pred = coefs[5] * x_grid**5 + coefs[4] * x_grid**4 + coefs[3] * x_grid**3 + coefs[2] * x_grid**2 + coefs[1] * x_grid + coefs[0]\n",
        "        \n",
        "        plt.scatter(x_grid, y_pred, color='orange', linewidth=5, label='predicted f')\n",
        "        \n",
        "        plt.legend(loc='upper left')\n",
        "        plt.show()"
      ]
    },
    {
      "cell_type": "markdown",
      "metadata": {
        "id": "GFW5dq7TqOQa"
      },
      "source": [
        "### Добавление. QR-разложение"
      ]
    },
    {
      "cell_type": "markdown",
      "metadata": {
        "id": "0YTcuQZqqOQa"
      },
      "source": [
        "**QR-разложением** матрицы $A$ (не обязательно квадратной) мы будем называть её представление в виде $A = QR$, где $Q$ — матрица с ортонормированными столбцами, а $R$ — верхнетреугольная матрица.\n",
        "\n",
        "Смысл QR-разложения следующий. Пусть $a_1,\\ldots,a_m$ — столбцы матрицы $A$, $q_1,\\ldots,q_t$ — столбцы матрицы $Q$. Тогда $q_1,\\ldots,q_t$ — это ортонормированный базис в подпространстве, являющемся линейной оболочкой векторов $a_1,\\ldots,a_m$, а в матрице $R$ записаны коэффициенты, с помощью которых $a_i$ выражаются через $q_1,\\ldots,q_t$.\n",
        "\n",
        "Находить QR-разложение заданной матрицы можно разными способами. Мы познакомим вас не с самым лучшим из них, но по крайней мере с наиболее простым концептуально. Заметим, что ортогональный базис линейной оболочки можно найти с помощью ортогонализации Грама-Шмидта. При этом коэффициенты из матрицы $R$ получаются в качестве побочного продукта этого процесса:\n",
        "\n",
        "```python\n",
        "for j = 1...n:\n",
        "    q_j = a_j\n",
        "    for i = 1,...,j-1:\n",
        "        r_ij = (q_i, a_j)\n",
        "        q_j = q_j - r_ij * q_i\n",
        "    r_jj = |q_j|\n",
        "    if r_jj == 0: # a_j in <a_1,...,a_j-1>\n",
        "        # What would you do in this case?..\n",
        "    q_j = q_j / r_jj\n",
        "```\n",
        "\n",
        "Для нахождения QR-разложения вы можете использовать библиотечную функцию `scipy.linalg.qr`."
      ]
    },
    {
      "cell_type": "markdown",
      "metadata": {
        "id": "Zpwq9fXVqOQa"
      },
      "source": [
        "Поскольку лабораторная про линейную регрессию, не так-то просто замять вопрос о том, какое же отношение QR-разложение имеет к задаче регрессии. Упомянем одно из возможных применений.\n",
        "\n",
        "Допустим, мы нашли QR-разложение матрицы $X$, а именно: $X = QR$. Тогда\n",
        "$$X^TX = (QR)^T(QR) = R^TQ^TQR = R^TR$$"
      ]
    },
    {
      "cell_type": "markdown",
      "metadata": {
        "id": "dAw3yCcDqOQa"
      },
      "source": [
        "Поскольку в задаче регрессии матрица $X$ обычного полного ранга (то есть её столбцы линейно независимы), матрица $R$ будет квадратной. Благодаря этому нашу обычную формулу для набора регрессионных коэффициентов $\\hat{a}$ можно переписать в следующем виде:\n",
        "\n",
        "$$\\hat{a} = (X^TX)^{-1}X^Ty = (R^TR)^{-1}(QR)^Ty = R^{-1}(R^T)^{-1}R^TQ^Ty = R^{-1}Q^Ty$$\n",
        "\n",
        "Как видите, формула стала проще. Более того, зачастую обращение матрицы $R$ может быть численно более устойчиво, чем обращение матрицы $X^TX$."
      ]
    }
  ],
  "metadata": {
    "colab": {
      "provenance": []
    },
    "kernelspec": {
      "display_name": "Python 3 (ipykernel)",
      "language": "python",
      "name": "python3"
    },
    "language_info": {
      "codemirror_mode": {
        "name": "ipython",
        "version": 3
      },
      "file_extension": ".py",
      "mimetype": "text/x-python",
      "name": "python",
      "nbconvert_exporter": "python",
      "pygments_lexer": "ipython3",
      "version": "3.9.12"
    }
  },
  "nbformat": 4,
  "nbformat_minor": 0
}